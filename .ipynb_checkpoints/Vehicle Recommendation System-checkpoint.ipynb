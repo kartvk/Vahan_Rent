{
 "cells": [
  {
   "cell_type": "markdown",
   "id": "38b74d26",
   "metadata": {},
   "source": [
    "# Vehicle Rental System | content Based Recommendation"
   ]
  },
  {
   "cell_type": "code",
   "execution_count": 1,
   "id": "1b77777e",
   "metadata": {},
   "outputs": [],
   "source": [
    "import pandas as pd\n",
    "import numpy as np\n",
    "import matplotlib.pyplot as plt\n",
    "import seaborn as sns\n",
    "import os"
   ]
  },
  {
   "cell_type": "code",
   "execution_count": 2,
   "id": "89b2bb3a",
   "metadata": {},
   "outputs": [],
   "source": [
    "vehicle = pd.read_csv('Data/CarRentalDataV1.csv', sep=\",\")"
   ]
  },
  {
   "cell_type": "code",
   "execution_count": 3,
   "id": "bf41c297",
   "metadata": {},
   "outputs": [
    {
     "data": {
      "text/html": [
       "<div>\n",
       "<style scoped>\n",
       "    .dataframe tbody tr th:only-of-type {\n",
       "        vertical-align: middle;\n",
       "    }\n",
       "\n",
       "    .dataframe tbody tr th {\n",
       "        vertical-align: top;\n",
       "    }\n",
       "\n",
       "    .dataframe thead th {\n",
       "        text-align: right;\n",
       "    }\n",
       "</style>\n",
       "<table border=\"1\" class=\"dataframe\">\n",
       "  <thead>\n",
       "    <tr style=\"text-align: right;\">\n",
       "      <th></th>\n",
       "      <th>fuelType</th>\n",
       "      <th>rating</th>\n",
       "      <th>renterTripsTaken</th>\n",
       "      <th>reviewCount</th>\n",
       "      <th>location.city</th>\n",
       "      <th>location.country</th>\n",
       "      <th>location.latitude</th>\n",
       "      <th>location.longitude</th>\n",
       "      <th>location.state</th>\n",
       "      <th>owner.id</th>\n",
       "      <th>rate.daily</th>\n",
       "      <th>vehicle.make</th>\n",
       "      <th>vehicle.model</th>\n",
       "      <th>vehicle.type</th>\n",
       "      <th>vehicle.year</th>\n",
       "      <th>airportcity</th>\n",
       "    </tr>\n",
       "  </thead>\n",
       "  <tbody>\n",
       "    <tr>\n",
       "      <th>0</th>\n",
       "      <td>ELECTRIC</td>\n",
       "      <td>5.00</td>\n",
       "      <td>13.0</td>\n",
       "      <td>12.0</td>\n",
       "      <td>Seattle</td>\n",
       "      <td>US</td>\n",
       "      <td>47.449107</td>\n",
       "      <td>-122.308841</td>\n",
       "      <td>WA</td>\n",
       "      <td>12847615.0</td>\n",
       "      <td>135.0</td>\n",
       "      <td>Tesla</td>\n",
       "      <td>Model X</td>\n",
       "      <td>suv</td>\n",
       "      <td>2019.0</td>\n",
       "      <td>Albuquerque</td>\n",
       "    </tr>\n",
       "    <tr>\n",
       "      <th>1</th>\n",
       "      <td>ELECTRIC</td>\n",
       "      <td>5.00</td>\n",
       "      <td>2.0</td>\n",
       "      <td>1.0</td>\n",
       "      <td>Tijeras</td>\n",
       "      <td>US</td>\n",
       "      <td>35.111060</td>\n",
       "      <td>-106.276551</td>\n",
       "      <td>NM</td>\n",
       "      <td>15621242.0</td>\n",
       "      <td>190.0</td>\n",
       "      <td>Tesla</td>\n",
       "      <td>Model X</td>\n",
       "      <td>suv</td>\n",
       "      <td>2018.0</td>\n",
       "      <td>Albuquerque</td>\n",
       "    </tr>\n",
       "    <tr>\n",
       "      <th>2</th>\n",
       "      <td>HYBRID</td>\n",
       "      <td>4.92</td>\n",
       "      <td>28.0</td>\n",
       "      <td>24.0</td>\n",
       "      <td>Albuquerque</td>\n",
       "      <td>US</td>\n",
       "      <td>35.127163</td>\n",
       "      <td>-106.566681</td>\n",
       "      <td>NM</td>\n",
       "      <td>10199256.0</td>\n",
       "      <td>35.0</td>\n",
       "      <td>Toyota</td>\n",
       "      <td>Prius</td>\n",
       "      <td>car</td>\n",
       "      <td>2012.0</td>\n",
       "      <td>Albuquerque</td>\n",
       "    </tr>\n",
       "    <tr>\n",
       "      <th>3</th>\n",
       "      <td>GASOLINE</td>\n",
       "      <td>5.00</td>\n",
       "      <td>21.0</td>\n",
       "      <td>20.0</td>\n",
       "      <td>Albuquerque</td>\n",
       "      <td>US</td>\n",
       "      <td>35.149726</td>\n",
       "      <td>-106.711425</td>\n",
       "      <td>NM</td>\n",
       "      <td>9365496.0</td>\n",
       "      <td>75.0</td>\n",
       "      <td>Ford</td>\n",
       "      <td>Mustang</td>\n",
       "      <td>car</td>\n",
       "      <td>2018.0</td>\n",
       "      <td>Albuquerque</td>\n",
       "    </tr>\n",
       "    <tr>\n",
       "      <th>4</th>\n",
       "      <td>GASOLINE</td>\n",
       "      <td>5.00</td>\n",
       "      <td>3.0</td>\n",
       "      <td>1.0</td>\n",
       "      <td>Albuquerque</td>\n",
       "      <td>US</td>\n",
       "      <td>35.208659</td>\n",
       "      <td>-106.601008</td>\n",
       "      <td>NM</td>\n",
       "      <td>3553565.0</td>\n",
       "      <td>47.0</td>\n",
       "      <td>Chrysler</td>\n",
       "      <td>Sebring</td>\n",
       "      <td>car</td>\n",
       "      <td>2010.0</td>\n",
       "      <td>Albuquerque</td>\n",
       "    </tr>\n",
       "  </tbody>\n",
       "</table>\n",
       "</div>"
      ],
      "text/plain": [
       "   fuelType  rating  renterTripsTaken  reviewCount location.city  \\\n",
       "0  ELECTRIC    5.00              13.0         12.0       Seattle   \n",
       "1  ELECTRIC    5.00               2.0          1.0       Tijeras   \n",
       "2    HYBRID    4.92              28.0         24.0   Albuquerque   \n",
       "3  GASOLINE    5.00              21.0         20.0   Albuquerque   \n",
       "4  GASOLINE    5.00               3.0          1.0   Albuquerque   \n",
       "\n",
       "  location.country  location.latitude  location.longitude location.state  \\\n",
       "0               US          47.449107         -122.308841             WA   \n",
       "1               US          35.111060         -106.276551             NM   \n",
       "2               US          35.127163         -106.566681             NM   \n",
       "3               US          35.149726         -106.711425             NM   \n",
       "4               US          35.208659         -106.601008             NM   \n",
       "\n",
       "     owner.id  rate.daily vehicle.make vehicle.model vehicle.type  \\\n",
       "0  12847615.0       135.0        Tesla       Model X          suv   \n",
       "1  15621242.0       190.0        Tesla       Model X          suv   \n",
       "2  10199256.0        35.0       Toyota         Prius          car   \n",
       "3   9365496.0        75.0         Ford       Mustang          car   \n",
       "4   3553565.0        47.0     Chrysler       Sebring          car   \n",
       "\n",
       "   vehicle.year  airportcity  \n",
       "0        2019.0  Albuquerque  \n",
       "1        2018.0  Albuquerque  \n",
       "2        2012.0  Albuquerque  \n",
       "3        2018.0  Albuquerque  \n",
       "4        2010.0  Albuquerque  "
      ]
     },
     "execution_count": 3,
     "metadata": {},
     "output_type": "execute_result"
    }
   ],
   "source": [
    "vehicle.head(5)"
   ]
  },
  {
   "cell_type": "code",
   "execution_count": 4,
   "id": "e2bb15e3",
   "metadata": {},
   "outputs": [
    {
     "data": {
      "text/plain": [
       "(5851, 16)"
      ]
     },
     "execution_count": 4,
     "metadata": {},
     "output_type": "execute_result"
    }
   ],
   "source": [
    "vehicle.shape"
   ]
  },
  {
   "cell_type": "code",
   "execution_count": 5,
   "id": "e3f3208b",
   "metadata": {},
   "outputs": [],
   "source": [
    "vehicle = vehicle[['fuelType', 'location.city', 'location.state', 'owner.id','vehicle.make', 'vehicle.model', 'vehicle.type','airportcity']]"
   ]
  },
  {
   "cell_type": "code",
   "execution_count": 6,
   "id": "f778f53b",
   "metadata": {},
   "outputs": [],
   "source": [
    "vehicle.rename(columns={\n",
    "    \"fuelType\": \"Fuel\",\n",
    "    \"location.city\": \"city\",\n",
    "    \"location.state\": \"state\",\n",
    "    \"owner.id\": \"ownerid\",\n",
    "    \"vehicle.make\": \"Brand\",\n",
    "    \"vehicle.model\": \"model\",\n",
    "    \"vehicle.type\": \"type\",\n",
    "    \"airportcity\":\"airport\"\n",
    "}, inplace=True)"
   ]
  },
  {
   "cell_type": "code",
   "execution_count": 7,
   "id": "783ba815",
   "metadata": {},
   "outputs": [
    {
     "data": {
      "text/html": [
       "<div>\n",
       "<style scoped>\n",
       "    .dataframe tbody tr th:only-of-type {\n",
       "        vertical-align: middle;\n",
       "    }\n",
       "\n",
       "    .dataframe tbody tr th {\n",
       "        vertical-align: top;\n",
       "    }\n",
       "\n",
       "    .dataframe thead th {\n",
       "        text-align: right;\n",
       "    }\n",
       "</style>\n",
       "<table border=\"1\" class=\"dataframe\">\n",
       "  <thead>\n",
       "    <tr style=\"text-align: right;\">\n",
       "      <th></th>\n",
       "      <th>Fuel</th>\n",
       "      <th>city</th>\n",
       "      <th>state</th>\n",
       "      <th>ownerid</th>\n",
       "      <th>Brand</th>\n",
       "      <th>model</th>\n",
       "      <th>type</th>\n",
       "      <th>airport</th>\n",
       "    </tr>\n",
       "  </thead>\n",
       "  <tbody>\n",
       "    <tr>\n",
       "      <th>0</th>\n",
       "      <td>ELECTRIC</td>\n",
       "      <td>Seattle</td>\n",
       "      <td>WA</td>\n",
       "      <td>12847615.0</td>\n",
       "      <td>Tesla</td>\n",
       "      <td>Model X</td>\n",
       "      <td>suv</td>\n",
       "      <td>Albuquerque</td>\n",
       "    </tr>\n",
       "    <tr>\n",
       "      <th>1</th>\n",
       "      <td>ELECTRIC</td>\n",
       "      <td>Tijeras</td>\n",
       "      <td>NM</td>\n",
       "      <td>15621242.0</td>\n",
       "      <td>Tesla</td>\n",
       "      <td>Model X</td>\n",
       "      <td>suv</td>\n",
       "      <td>Albuquerque</td>\n",
       "    </tr>\n",
       "  </tbody>\n",
       "</table>\n",
       "</div>"
      ],
      "text/plain": [
       "       Fuel     city state     ownerid  Brand    model type      airport\n",
       "0  ELECTRIC  Seattle    WA  12847615.0  Tesla  Model X  suv  Albuquerque\n",
       "1  ELECTRIC  Tijeras    NM  15621242.0  Tesla  Model X  suv  Albuquerque"
      ]
     },
     "execution_count": 7,
     "metadata": {},
     "output_type": "execute_result"
    }
   ],
   "source": [
    "vehicle.head(2)"
   ]
  },
  {
   "cell_type": "code",
   "execution_count": 8,
   "id": "10efecc8",
   "metadata": {},
   "outputs": [
    {
     "data": {
      "text/plain": [
       "Fuel       75\n",
       "city        0\n",
       "state       0\n",
       "ownerid     0\n",
       "Brand       0\n",
       "model       0\n",
       "type        0\n",
       "airport     0\n",
       "dtype: int64"
      ]
     },
     "execution_count": 8,
     "metadata": {},
     "output_type": "execute_result"
    }
   ],
   "source": [
    "vehicle.isnull().sum()"
   ]
  },
  {
   "cell_type": "code",
   "execution_count": 9,
   "id": "13bc91da",
   "metadata": {},
   "outputs": [],
   "source": [
    "vehicle.dropna(inplace=True)"
   ]
  },
  {
   "cell_type": "code",
   "execution_count": 10,
   "id": "1a65a71a",
   "metadata": {},
   "outputs": [
    {
     "data": {
      "text/plain": [
       "Fuel       0\n",
       "city       0\n",
       "state      0\n",
       "ownerid    0\n",
       "Brand      0\n",
       "model      0\n",
       "type       0\n",
       "airport    0\n",
       "dtype: int64"
      ]
     },
     "execution_count": 10,
     "metadata": {},
     "output_type": "execute_result"
    }
   ],
   "source": [
    "vehicle.isnull().sum()"
   ]
  },
  {
   "cell_type": "code",
   "execution_count": 11,
   "id": "bf10d0b7",
   "metadata": {},
   "outputs": [
    {
     "data": {
      "text/plain": [
       "554"
      ]
     },
     "execution_count": 11,
     "metadata": {},
     "output_type": "execute_result"
    }
   ],
   "source": [
    "vehicle.duplicated().sum()"
   ]
  },
  {
   "cell_type": "code",
   "execution_count": 12,
   "id": "3e514e02",
   "metadata": {},
   "outputs": [
    {
     "data": {
      "text/html": [
       "<div>\n",
       "<style scoped>\n",
       "    .dataframe tbody tr th:only-of-type {\n",
       "        vertical-align: middle;\n",
       "    }\n",
       "\n",
       "    .dataframe tbody tr th {\n",
       "        vertical-align: top;\n",
       "    }\n",
       "\n",
       "    .dataframe thead th {\n",
       "        text-align: right;\n",
       "    }\n",
       "</style>\n",
       "<table border=\"1\" class=\"dataframe\">\n",
       "  <thead>\n",
       "    <tr style=\"text-align: right;\">\n",
       "      <th></th>\n",
       "      <th>Fuel</th>\n",
       "      <th>city</th>\n",
       "      <th>state</th>\n",
       "      <th>ownerid</th>\n",
       "      <th>Brand</th>\n",
       "      <th>model</th>\n",
       "      <th>type</th>\n",
       "      <th>airport</th>\n",
       "    </tr>\n",
       "  </thead>\n",
       "  <tbody>\n",
       "    <tr>\n",
       "      <th>0</th>\n",
       "      <td>[ELECTRIC]</td>\n",
       "      <td>Seattle</td>\n",
       "      <td>[WA]</td>\n",
       "      <td>12847615.0</td>\n",
       "      <td>Tesla</td>\n",
       "      <td>[Model, X]</td>\n",
       "      <td>[suv]</td>\n",
       "      <td>[Albuquerque]</td>\n",
       "    </tr>\n",
       "    <tr>\n",
       "      <th>1</th>\n",
       "      <td>[ELECTRIC]</td>\n",
       "      <td>Tijeras</td>\n",
       "      <td>[NM]</td>\n",
       "      <td>15621242.0</td>\n",
       "      <td>Tesla</td>\n",
       "      <td>[Model, X]</td>\n",
       "      <td>[suv]</td>\n",
       "      <td>[Albuquerque]</td>\n",
       "    </tr>\n",
       "    <tr>\n",
       "      <th>2</th>\n",
       "      <td>[HYBRID]</td>\n",
       "      <td>Albuquerque</td>\n",
       "      <td>[NM]</td>\n",
       "      <td>10199256.0</td>\n",
       "      <td>Toyota</td>\n",
       "      <td>[Prius]</td>\n",
       "      <td>[car]</td>\n",
       "      <td>[Albuquerque]</td>\n",
       "    </tr>\n",
       "    <tr>\n",
       "      <th>3</th>\n",
       "      <td>[GASOLINE]</td>\n",
       "      <td>Albuquerque</td>\n",
       "      <td>[NM]</td>\n",
       "      <td>9365496.0</td>\n",
       "      <td>Ford</td>\n",
       "      <td>[Mustang]</td>\n",
       "      <td>[car]</td>\n",
       "      <td>[Albuquerque]</td>\n",
       "    </tr>\n",
       "    <tr>\n",
       "      <th>4</th>\n",
       "      <td>[GASOLINE]</td>\n",
       "      <td>Albuquerque</td>\n",
       "      <td>[NM]</td>\n",
       "      <td>3553565.0</td>\n",
       "      <td>Chrysler</td>\n",
       "      <td>[Sebring]</td>\n",
       "      <td>[car]</td>\n",
       "      <td>[Albuquerque]</td>\n",
       "    </tr>\n",
       "  </tbody>\n",
       "</table>\n",
       "</div>"
      ],
      "text/plain": [
       "         Fuel         city state     ownerid     Brand       model   type  \\\n",
       "0  [ELECTRIC]      Seattle  [WA]  12847615.0     Tesla  [Model, X]  [suv]   \n",
       "1  [ELECTRIC]      Tijeras  [NM]  15621242.0     Tesla  [Model, X]  [suv]   \n",
       "2    [HYBRID]  Albuquerque  [NM]  10199256.0    Toyota     [Prius]  [car]   \n",
       "3  [GASOLINE]  Albuquerque  [NM]   9365496.0      Ford   [Mustang]  [car]   \n",
       "4  [GASOLINE]  Albuquerque  [NM]   3553565.0  Chrysler   [Sebring]  [car]   \n",
       "\n",
       "         airport  \n",
       "0  [Albuquerque]  \n",
       "1  [Albuquerque]  \n",
       "2  [Albuquerque]  \n",
       "3  [Albuquerque]  \n",
       "4  [Albuquerque]  "
      ]
     },
     "execution_count": 12,
     "metadata": {},
     "output_type": "execute_result"
    }
   ],
   "source": [
    "vehicle['Fuel'] = vehicle['Fuel'].apply(lambda x:x.split())\n",
    "vehicle['state'] = vehicle['state'].apply(lambda x:x.split())\n",
    "vehicle['model'] = vehicle['model'].apply(lambda x:x.split())\n",
    "vehicle['type'] = vehicle['type'].apply(lambda x:x.split())\n",
    "vehicle['airport'] = vehicle['airport'].apply(lambda x:x.split())\n",
    "vehicle.head()"
   ]
  },
  {
   "cell_type": "code",
   "execution_count": 13,
   "id": "6e65d44e",
   "metadata": {},
   "outputs": [],
   "source": [
    "vehicle['tags'] = vehicle['Fuel']+vehicle['state']+vehicle['model']+vehicle['type']+vehicle['airport']"
   ]
  },
  {
   "cell_type": "code",
   "execution_count": 14,
   "id": "e1764cc0",
   "metadata": {},
   "outputs": [
    {
     "data": {
      "text/plain": [
       "['ELECTRIC', 'WA', 'Model', 'X', 'suv', 'Albuquerque']"
      ]
     },
     "execution_count": 14,
     "metadata": {},
     "output_type": "execute_result"
    }
   ],
   "source": [
    "vehicle.iloc[0]['tags']"
   ]
  },
  {
   "cell_type": "code",
   "execution_count": 15,
   "id": "71252a0f",
   "metadata": {},
   "outputs": [],
   "source": [
    "new_df = vehicle[['city','ownerid','Brand','tags']]"
   ]
  },
  {
   "cell_type": "code",
   "execution_count": 16,
   "id": "2956b357",
   "metadata": {},
   "outputs": [
    {
     "data": {
      "text/html": [
       "<div>\n",
       "<style scoped>\n",
       "    .dataframe tbody tr th:only-of-type {\n",
       "        vertical-align: middle;\n",
       "    }\n",
       "\n",
       "    .dataframe tbody tr th {\n",
       "        vertical-align: top;\n",
       "    }\n",
       "\n",
       "    .dataframe thead th {\n",
       "        text-align: right;\n",
       "    }\n",
       "</style>\n",
       "<table border=\"1\" class=\"dataframe\">\n",
       "  <thead>\n",
       "    <tr style=\"text-align: right;\">\n",
       "      <th></th>\n",
       "      <th>city</th>\n",
       "      <th>ownerid</th>\n",
       "      <th>Brand</th>\n",
       "      <th>tags</th>\n",
       "    </tr>\n",
       "  </thead>\n",
       "  <tbody>\n",
       "    <tr>\n",
       "      <th>0</th>\n",
       "      <td>Seattle</td>\n",
       "      <td>12847615.0</td>\n",
       "      <td>Tesla</td>\n",
       "      <td>[ELECTRIC, WA, Model, X, suv, Albuquerque]</td>\n",
       "    </tr>\n",
       "    <tr>\n",
       "      <th>1</th>\n",
       "      <td>Tijeras</td>\n",
       "      <td>15621242.0</td>\n",
       "      <td>Tesla</td>\n",
       "      <td>[ELECTRIC, NM, Model, X, suv, Albuquerque]</td>\n",
       "    </tr>\n",
       "    <tr>\n",
       "      <th>2</th>\n",
       "      <td>Albuquerque</td>\n",
       "      <td>10199256.0</td>\n",
       "      <td>Toyota</td>\n",
       "      <td>[HYBRID, NM, Prius, car, Albuquerque]</td>\n",
       "    </tr>\n",
       "    <tr>\n",
       "      <th>3</th>\n",
       "      <td>Albuquerque</td>\n",
       "      <td>9365496.0</td>\n",
       "      <td>Ford</td>\n",
       "      <td>[GASOLINE, NM, Mustang, car, Albuquerque]</td>\n",
       "    </tr>\n",
       "    <tr>\n",
       "      <th>4</th>\n",
       "      <td>Albuquerque</td>\n",
       "      <td>3553565.0</td>\n",
       "      <td>Chrysler</td>\n",
       "      <td>[GASOLINE, NM, Sebring, car, Albuquerque]</td>\n",
       "    </tr>\n",
       "  </tbody>\n",
       "</table>\n",
       "</div>"
      ],
      "text/plain": [
       "          city     ownerid     Brand  \\\n",
       "0      Seattle  12847615.0     Tesla   \n",
       "1      Tijeras  15621242.0     Tesla   \n",
       "2  Albuquerque  10199256.0    Toyota   \n",
       "3  Albuquerque   9365496.0      Ford   \n",
       "4  Albuquerque   3553565.0  Chrysler   \n",
       "\n",
       "                                         tags  \n",
       "0  [ELECTRIC, WA, Model, X, suv, Albuquerque]  \n",
       "1  [ELECTRIC, NM, Model, X, suv, Albuquerque]  \n",
       "2       [HYBRID, NM, Prius, car, Albuquerque]  \n",
       "3   [GASOLINE, NM, Mustang, car, Albuquerque]  \n",
       "4   [GASOLINE, NM, Sebring, car, Albuquerque]  "
      ]
     },
     "execution_count": 16,
     "metadata": {},
     "output_type": "execute_result"
    }
   ],
   "source": [
    "new_df.head(5)"
   ]
  },
  {
   "cell_type": "code",
   "execution_count": 17,
   "id": "93551578",
   "metadata": {},
   "outputs": [
    {
     "name": "stderr",
     "output_type": "stream",
     "text": [
      "C:\\Users\\VK Karthik\\AppData\\Local\\Temp\\ipykernel_20188\\2951490284.py:1: SettingWithCopyWarning: \n",
      "A value is trying to be set on a copy of a slice from a DataFrame.\n",
      "Try using .loc[row_indexer,col_indexer] = value instead\n",
      "\n",
      "See the caveats in the documentation: https://pandas.pydata.org/pandas-docs/stable/user_guide/indexing.html#returning-a-view-versus-a-copy\n",
      "  new_df['tags'] = new_df['tags'].apply(lambda x:\" \".join(x))\n"
     ]
    },
    {
     "data": {
      "text/html": [
       "<div>\n",
       "<style scoped>\n",
       "    .dataframe tbody tr th:only-of-type {\n",
       "        vertical-align: middle;\n",
       "    }\n",
       "\n",
       "    .dataframe tbody tr th {\n",
       "        vertical-align: top;\n",
       "    }\n",
       "\n",
       "    .dataframe thead th {\n",
       "        text-align: right;\n",
       "    }\n",
       "</style>\n",
       "<table border=\"1\" class=\"dataframe\">\n",
       "  <thead>\n",
       "    <tr style=\"text-align: right;\">\n",
       "      <th></th>\n",
       "      <th>city</th>\n",
       "      <th>ownerid</th>\n",
       "      <th>Brand</th>\n",
       "      <th>tags</th>\n",
       "    </tr>\n",
       "  </thead>\n",
       "  <tbody>\n",
       "    <tr>\n",
       "      <th>0</th>\n",
       "      <td>Seattle</td>\n",
       "      <td>12847615.0</td>\n",
       "      <td>Tesla</td>\n",
       "      <td>ELECTRIC WA Model X suv Albuquerque</td>\n",
       "    </tr>\n",
       "    <tr>\n",
       "      <th>1</th>\n",
       "      <td>Tijeras</td>\n",
       "      <td>15621242.0</td>\n",
       "      <td>Tesla</td>\n",
       "      <td>ELECTRIC NM Model X suv Albuquerque</td>\n",
       "    </tr>\n",
       "    <tr>\n",
       "      <th>2</th>\n",
       "      <td>Albuquerque</td>\n",
       "      <td>10199256.0</td>\n",
       "      <td>Toyota</td>\n",
       "      <td>HYBRID NM Prius car Albuquerque</td>\n",
       "    </tr>\n",
       "    <tr>\n",
       "      <th>3</th>\n",
       "      <td>Albuquerque</td>\n",
       "      <td>9365496.0</td>\n",
       "      <td>Ford</td>\n",
       "      <td>GASOLINE NM Mustang car Albuquerque</td>\n",
       "    </tr>\n",
       "    <tr>\n",
       "      <th>4</th>\n",
       "      <td>Albuquerque</td>\n",
       "      <td>3553565.0</td>\n",
       "      <td>Chrysler</td>\n",
       "      <td>GASOLINE NM Sebring car Albuquerque</td>\n",
       "    </tr>\n",
       "  </tbody>\n",
       "</table>\n",
       "</div>"
      ],
      "text/plain": [
       "          city     ownerid     Brand                                 tags\n",
       "0      Seattle  12847615.0     Tesla  ELECTRIC WA Model X suv Albuquerque\n",
       "1      Tijeras  15621242.0     Tesla  ELECTRIC NM Model X suv Albuquerque\n",
       "2  Albuquerque  10199256.0    Toyota      HYBRID NM Prius car Albuquerque\n",
       "3  Albuquerque   9365496.0      Ford  GASOLINE NM Mustang car Albuquerque\n",
       "4  Albuquerque   3553565.0  Chrysler  GASOLINE NM Sebring car Albuquerque"
      ]
     },
     "execution_count": 17,
     "metadata": {},
     "output_type": "execute_result"
    }
   ],
   "source": [
    "new_df['tags'] = new_df['tags'].apply(lambda x:\" \".join(x))\n",
    "new_df.head()"
   ]
  },
  {
   "cell_type": "code",
   "execution_count": 18,
   "id": "14e24f3e",
   "metadata": {},
   "outputs": [
    {
     "name": "stderr",
     "output_type": "stream",
     "text": [
      "C:\\Users\\VK Karthik\\AppData\\Local\\Temp\\ipykernel_20188\\842480936.py:1: SettingWithCopyWarning: \n",
      "A value is trying to be set on a copy of a slice from a DataFrame.\n",
      "Try using .loc[row_indexer,col_indexer] = value instead\n",
      "\n",
      "See the caveats in the documentation: https://pandas.pydata.org/pandas-docs/stable/user_guide/indexing.html#returning-a-view-versus-a-copy\n",
      "  new_df['tags'] = new_df['tags'].apply(lambda x:x.lower())\n"
     ]
    },
    {
     "data": {
      "text/html": [
       "<div>\n",
       "<style scoped>\n",
       "    .dataframe tbody tr th:only-of-type {\n",
       "        vertical-align: middle;\n",
       "    }\n",
       "\n",
       "    .dataframe tbody tr th {\n",
       "        vertical-align: top;\n",
       "    }\n",
       "\n",
       "    .dataframe thead th {\n",
       "        text-align: right;\n",
       "    }\n",
       "</style>\n",
       "<table border=\"1\" class=\"dataframe\">\n",
       "  <thead>\n",
       "    <tr style=\"text-align: right;\">\n",
       "      <th></th>\n",
       "      <th>city</th>\n",
       "      <th>ownerid</th>\n",
       "      <th>Brand</th>\n",
       "      <th>tags</th>\n",
       "    </tr>\n",
       "  </thead>\n",
       "  <tbody>\n",
       "    <tr>\n",
       "      <th>0</th>\n",
       "      <td>Seattle</td>\n",
       "      <td>12847615.0</td>\n",
       "      <td>Tesla</td>\n",
       "      <td>electric wa model x suv albuquerque</td>\n",
       "    </tr>\n",
       "    <tr>\n",
       "      <th>1</th>\n",
       "      <td>Tijeras</td>\n",
       "      <td>15621242.0</td>\n",
       "      <td>Tesla</td>\n",
       "      <td>electric nm model x suv albuquerque</td>\n",
       "    </tr>\n",
       "    <tr>\n",
       "      <th>2</th>\n",
       "      <td>Albuquerque</td>\n",
       "      <td>10199256.0</td>\n",
       "      <td>Toyota</td>\n",
       "      <td>hybrid nm prius car albuquerque</td>\n",
       "    </tr>\n",
       "    <tr>\n",
       "      <th>3</th>\n",
       "      <td>Albuquerque</td>\n",
       "      <td>9365496.0</td>\n",
       "      <td>Ford</td>\n",
       "      <td>gasoline nm mustang car albuquerque</td>\n",
       "    </tr>\n",
       "    <tr>\n",
       "      <th>4</th>\n",
       "      <td>Albuquerque</td>\n",
       "      <td>3553565.0</td>\n",
       "      <td>Chrysler</td>\n",
       "      <td>gasoline nm sebring car albuquerque</td>\n",
       "    </tr>\n",
       "  </tbody>\n",
       "</table>\n",
       "</div>"
      ],
      "text/plain": [
       "          city     ownerid     Brand                                 tags\n",
       "0      Seattle  12847615.0     Tesla  electric wa model x suv albuquerque\n",
       "1      Tijeras  15621242.0     Tesla  electric nm model x suv albuquerque\n",
       "2  Albuquerque  10199256.0    Toyota      hybrid nm prius car albuquerque\n",
       "3  Albuquerque   9365496.0      Ford  gasoline nm mustang car albuquerque\n",
       "4  Albuquerque   3553565.0  Chrysler  gasoline nm sebring car albuquerque"
      ]
     },
     "execution_count": 18,
     "metadata": {},
     "output_type": "execute_result"
    }
   ],
   "source": [
    "new_df['tags'] = new_df['tags'].apply(lambda x:x.lower())\n",
    "new_df.head()"
   ]
  },
  {
   "cell_type": "code",
   "execution_count": 19,
   "id": "fb33addb",
   "metadata": {},
   "outputs": [
    {
     "data": {
      "text/plain": [
       "(5776, 4)"
      ]
     },
     "execution_count": 19,
     "metadata": {},
     "output_type": "execute_result"
    }
   ],
   "source": [
    "new_df.shape"
   ]
  },
  {
   "cell_type": "code",
   "execution_count": 20,
   "id": "f854cfd7",
   "metadata": {},
   "outputs": [],
   "source": [
    "import nltk\n",
    "from nltk.stem import PorterStemmer  "
   ]
  },
  {
   "cell_type": "code",
   "execution_count": 21,
   "id": "139a973c",
   "metadata": {},
   "outputs": [],
   "source": [
    "ps = PorterStemmer()"
   ]
  },
  {
   "cell_type": "code",
   "execution_count": 22,
   "id": "dc2371c3",
   "metadata": {},
   "outputs": [],
   "source": [
    "def stems(text):\n",
    "    l = []\n",
    "    for i in text.split():\n",
    "        l.append(ps.stem(i))\n",
    "        \n",
    "    return \" \".join(l) "
   ]
  },
  {
   "cell_type": "code",
   "execution_count": 23,
   "id": "439535ee",
   "metadata": {},
   "outputs": [
    {
     "data": {
      "text/plain": [
       "'electric wa model x suv albuquerque'"
      ]
     },
     "execution_count": 23,
     "metadata": {},
     "output_type": "execute_result"
    }
   ],
   "source": [
    "new_df.iloc[0]['tags']"
   ]
  },
  {
   "cell_type": "code",
   "execution_count": 24,
   "id": "556f4a56",
   "metadata": {},
   "outputs": [],
   "source": [
    "from sklearn.feature_extraction.text import CountVectorizer\n",
    "cv = CountVectorizer(max_features=5000)"
   ]
  },
  {
   "cell_type": "code",
   "execution_count": 25,
   "id": "fc210ec6",
   "metadata": {},
   "outputs": [],
   "source": [
    "vector = cv.fit_transform(new_df['tags']).toarray()"
   ]
  },
  {
   "cell_type": "code",
   "execution_count": 26,
   "id": "22208044",
   "metadata": {},
   "outputs": [
    {
     "data": {
      "text/plain": [
       "array([[0, 0, 0, ..., 0, 0, 0],\n",
       "       [0, 0, 0, ..., 0, 0, 0],\n",
       "       [0, 0, 0, ..., 0, 0, 0],\n",
       "       ...,\n",
       "       [0, 0, 0, ..., 0, 0, 0],\n",
       "       [0, 0, 0, ..., 0, 0, 0],\n",
       "       [0, 0, 0, ..., 0, 0, 0]], dtype=int64)"
      ]
     },
     "execution_count": 26,
     "metadata": {},
     "output_type": "execute_result"
    }
   ],
   "source": [
    "vector"
   ]
  },
  {
   "cell_type": "code",
   "execution_count": 27,
   "id": "bd11587a",
   "metadata": {},
   "outputs": [
    {
     "data": {
      "text/plain": [
       "(5776, 613)"
      ]
     },
     "execution_count": 27,
     "metadata": {},
     "output_type": "execute_result"
    }
   ],
   "source": [
    "vector.shape"
   ]
  },
  {
   "cell_type": "code",
   "execution_count": 28,
   "id": "a48cc73d",
   "metadata": {},
   "outputs": [],
   "source": [
    "from sklearn.metrics.pairwise import cosine_similarity\n",
    "\n",
    "similary = cosine_similarity(vector)"
   ]
  },
  {
   "cell_type": "code",
   "execution_count": 29,
   "id": "3f466488",
   "metadata": {},
   "outputs": [
    {
     "data": {
      "text/plain": [
       "array([[1. , 0.8, 0.2, ..., 0. , 0. , 0. ],\n",
       "       [0.8, 1. , 0.4, ..., 0. , 0. , 0. ],\n",
       "       [0.2, 0.4, 1. , ..., 0.2, 0. , 0.2],\n",
       "       ...,\n",
       "       [0. , 0. , 0.2, ..., 1. , 0.6, 1. ],\n",
       "       [0. , 0. , 0. , ..., 0.6, 1. , 0.6],\n",
       "       [0. , 0. , 0.2, ..., 1. , 0.6, 1. ]])"
      ]
     },
     "execution_count": 29,
     "metadata": {},
     "output_type": "execute_result"
    }
   ],
   "source": [
    "similary"
   ]
  },
  {
   "cell_type": "code",
   "execution_count": 30,
   "id": "143036dd",
   "metadata": {},
   "outputs": [
    {
     "data": {
      "text/plain": [
       "(5776, 5776)"
      ]
     },
     "execution_count": 30,
     "metadata": {},
     "output_type": "execute_result"
    }
   ],
   "source": [
    "similary.shape"
   ]
  },
  {
   "cell_type": "code",
   "execution_count": 31,
   "id": "589af3bc",
   "metadata": {},
   "outputs": [
    {
     "data": {
      "text/plain": [
       "3716"
      ]
     },
     "execution_count": 31,
     "metadata": {},
     "output_type": "execute_result"
    }
   ],
   "source": [
    "new_df[new_df['city'] == 'Phoenix'].index[0]"
   ]
  },
  {
   "cell_type": "code",
   "execution_count": 32,
   "id": "e0da3a68",
   "metadata": {},
   "outputs": [
    {
     "name": "stdout",
     "output_type": "stream",
     "text": [
      "Recommended owners for city Phoenix: [3410675.0, 1143331.0, 3410675.0, 950349.0, 4009047.0]\n",
      "Recommended vehicle models for city Phoenix: ['Nissan', 'Nissan', 'Nissan', 'Mazda', 'Chevrolet']\n",
      "Recommended vehicles for city Phoenix: 3410675.0=Nissan, 1143331.0=Nissan, 3410675.0=Nissan, 950349.0=Mazda, 4009047.0=Chevrolet\n"
     ]
    }
   ],
   "source": [
    "def recommend(vehicle):\n",
    "    index = new_df[new_df['city'] == vehicle].index[0]\n",
    "    distances = sorted(list(enumerate(similary[index])), reverse=True, key=lambda x: x[1])\n",
    "    recommended_owners = []\n",
    "    recommended_models = []\n",
    "    for i in distances[1:6]:\n",
    "        recommended_models.append(new_df.iloc[i[0]].Brand)\n",
    "        recommended_owners.append(new_df.iloc[i[0]].ownerid)\n",
    "    print(\"Recommended owners for city {}: {}\".format(vehicle, recommended_owners))\n",
    "    print(\"Recommended vehicle models for city {}: {}\".format(vehicle, recommended_models))\n",
    "    print(\"Recommended vehicles for city {}: {}\".format(vehicle, ', '.join(['{}={}'.format(owner, model) for owner, model in zip(recommended_owners, recommended_models)])))\n",
    "\n",
    "recommend('Phoenix')"
   ]
  },
  {
   "cell_type": "code",
   "execution_count": 33,
   "id": "bde9c46f",
   "metadata": {},
   "outputs": [],
   "source": [
    "import pickle\n",
    "pickle.dump(new_df, open('artificats/vehicle_list.pkl', 'wb'))\n",
    "pickle.dump(similary, open('artificats/similarity.pkl', 'wb'))"
   ]
  }
 ],
 "metadata": {
  "kernelspec": {
   "display_name": "Python 3 (ipykernel)",
   "language": "python",
   "name": "python3"
  },
  "language_info": {
   "codemirror_mode": {
    "name": "ipython",
    "version": 3
   },
   "file_extension": ".py",
   "mimetype": "text/x-python",
   "name": "python",
   "nbconvert_exporter": "python",
   "pygments_lexer": "ipython3",
   "version": "3.10.9"
  }
 },
 "nbformat": 4,
 "nbformat_minor": 5
}
